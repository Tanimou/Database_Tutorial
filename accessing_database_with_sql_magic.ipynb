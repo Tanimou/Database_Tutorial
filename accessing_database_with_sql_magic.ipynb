{
 "cells": [
  {
   "cell_type": "code",
   "execution_count": 1,
   "metadata": {},
   "outputs": [
    {
     "name": "stdout",
     "output_type": "stream",
     "text": [
      "Requirement already satisfied: ibm_db==3.1.1 in c:\\users\\tanim\\appdata\\local\\programs\\python\\python310\\lib\\site-packages (3.1.1)\n",
      "Requirement already satisfied: ibm_db_sa==0.3.3 in c:\\users\\tanim\\appdata\\local\\programs\\python\\python310\\lib\\site-packages (0.3.3)\n",
      "Requirement already satisfied: sqlalchemy>=0.7.3 in c:\\users\\tanim\\appdata\\local\\programs\\python\\python310\\lib\\site-packages (from ibm_db_sa==0.3.3) (1.4.0)\n",
      "Requirement already satisfied: greenlet!=0.4.17 in c:\\users\\tanim\\appdata\\local\\programs\\python\\python310\\lib\\site-packages (from sqlalchemy>=0.7.3->ibm_db_sa==0.3.3) (1.1.2)\n",
      "Note: you may need to restart the kernel to use updated packages.\n"
     ]
    }
   ],
   "source": [
    "# These libraries are pre-installed in SN Labs. If running in another environment please uncomment lines below to install them:\n",
    "%pip install ibm_db==3.1.1 ibm_db_sa==0.3.3\n",
    "# Ensure we don't load_ext with sqlalchemy>=1.4 (incompadible)\n",
    "# !pip uninstall sqlalchemy==1.4 -y && pip install sqlalchemy==1.3.24\n",
    "# !pip install ipython-sql\n"
   ]
  },
  {
   "cell_type": "code",
   "execution_count": 2,
   "metadata": {},
   "outputs": [
    {
     "name": "stdout",
     "output_type": "stream",
     "text": [
      "Found existing installation: SQLAlchemy 1.4.0Note: you may need to restart the kernel to use updated packages.\n",
      "Uninstalling SQLAlchemy-1.4.0:\n",
      "  Successfully uninstalled SQLAlchemy-1.4.0\n",
      "\n"
     ]
    }
   ],
   "source": [
    "%pip uninstall sqlalchemy==1.4 -y"
   ]
  },
  {
   "cell_type": "code",
   "execution_count": 3,
   "metadata": {},
   "outputs": [
    {
     "name": "stdout",
     "output_type": "stream",
     "text": [
      "Collecting sqlalchemy==1.3.24\n",
      "  Using cached SQLAlchemy-1.3.24.tar.gz (6.4 MB)\n",
      "  Preparing metadata (setup.py): started\n",
      "  Preparing metadata (setup.py): finished with status 'done'\n",
      "Using legacy 'setup.py install' for sqlalchemy, since package 'wheel' is not installed.\n",
      "Installing collected packages: sqlalchemy\n",
      "  Running setup.py install for sqlalchemy: started\n",
      "  Running setup.py install for sqlalchemy: finished with status 'done'\n",
      "Successfully installed sqlalchemy-1.3.24\n",
      "Note: you may need to restart the kernel to use updated packages.\n"
     ]
    }
   ],
   "source": [
    "%pip install sqlalchemy==1.3.24\n"
   ]
  },
  {
   "cell_type": "code",
   "execution_count": 4,
   "metadata": {},
   "outputs": [
    {
     "name": "stdout",
     "output_type": "stream",
     "text": [
      "Requirement already satisfied: ipython-sql in c:\\users\\tanim\\appdata\\local\\programs\\python\\python310\\lib\\site-packages (0.4.0)\n",
      "Requirement already satisfied: ipython>=1.0 in c:\\users\\tanim\\appdata\\local\\programs\\python\\python310\\lib\\site-packages (from ipython-sql) (7.28.0)\n",
      "Requirement already satisfied: sqlalchemy>=0.6.7 in c:\\users\\tanim\\appdata\\local\\programs\\python\\python310\\lib\\site-packages (from ipython-sql) (1.3.24)\n",
      "Requirement already satisfied: six in c:\\users\\tanim\\appdata\\local\\programs\\python\\python310\\lib\\site-packages (from ipython-sql) (1.16.0)\n",
      "Requirement already satisfied: sqlparse in c:\\users\\tanim\\appdata\\local\\programs\\python\\python310\\lib\\site-packages (from ipython-sql) (0.4.2)\n",
      "Requirement already satisfied: ipython-genutils>=0.1.0 in c:\\users\\tanim\\appdata\\local\\programs\\python\\python310\\lib\\site-packages (from ipython-sql) (0.2.0)\n",
      "Requirement already satisfied: prettytable<1 in c:\\users\\tanim\\appdata\\local\\programs\\python\\python310\\lib\\site-packages (from ipython-sql) (0.7.2)\n",
      "Requirement already satisfied: colorama in c:\\users\\tanim\\appdata\\local\\programs\\python\\python310\\lib\\site-packages (from ipython>=1.0->ipython-sql) (0.4.4)\n",
      "Requirement already satisfied: decorator in c:\\users\\tanim\\appdata\\local\\programs\\python\\python310\\lib\\site-packages (from ipython>=1.0->ipython-sql) (5.1.0)\n",
      "Requirement already satisfied: pygments in c:\\users\\tanim\\appdata\\local\\programs\\python\\python310\\lib\\site-packages (from ipython>=1.0->ipython-sql) (2.10.0)\n",
      "Requirement already satisfied: prompt-toolkit!=3.0.0,!=3.0.1,<3.1.0,>=2.0.0 in c:\\users\\tanim\\appdata\\local\\programs\\python\\python310\\lib\\site-packages (from ipython>=1.0->ipython-sql) (3.0.20)\n",
      "Requirement already satisfied: matplotlib-inline in c:\\users\\tanim\\appdata\\local\\programs\\python\\python310\\lib\\site-packages (from ipython>=1.0->ipython-sql) (0.1.3)\n",
      "Requirement already satisfied: pickleshare in c:\\users\\tanim\\appdata\\local\\programs\\python\\python310\\lib\\site-packages (from ipython>=1.0->ipython-sql) (0.7.5)\n",
      "Requirement already satisfied: backcall in c:\\users\\tanim\\appdata\\local\\programs\\python\\python310\\lib\\site-packages (from ipython>=1.0->ipython-sql) (0.2.0)\n",
      "Requirement already satisfied: setuptools>=18.5 in c:\\users\\tanim\\appdata\\local\\programs\\python\\python310\\lib\\site-packages (from ipython>=1.0->ipython-sql) (57.4.0)\n",
      "Requirement already satisfied: jedi>=0.16 in c:\\users\\tanim\\appdata\\local\\programs\\python\\python310\\lib\\site-packages (from ipython>=1.0->ipython-sql) (0.18.0)\n",
      "Requirement already satisfied: traitlets>=4.2 in c:\\users\\tanim\\appdata\\local\\programs\\python\\python310\\lib\\site-packages (from ipython>=1.0->ipython-sql) (5.1.0)\n",
      "Requirement already satisfied: parso<0.9.0,>=0.8.0 in c:\\users\\tanim\\appdata\\local\\programs\\python\\python310\\lib\\site-packages (from jedi>=0.16->ipython>=1.0->ipython-sql) (0.8.2)\n",
      "Requirement already satisfied: wcwidth in c:\\users\\tanim\\appdata\\local\\programs\\python\\python310\\lib\\site-packages (from prompt-toolkit!=3.0.0,!=3.0.1,<3.1.0,>=2.0.0->ipython>=1.0->ipython-sql) (0.2.5)\n",
      "Note: you may need to restart the kernel to use updated packages.\n"
     ]
    }
   ],
   "source": [
    "%pip install ipython-sql\n"
   ]
  },
  {
   "cell_type": "code",
   "execution_count": 5,
   "metadata": {},
   "outputs": [],
   "source": [
    "%load_ext sql"
   ]
  },
  {
   "cell_type": "code",
   "execution_count": 7,
   "metadata": {},
   "outputs": [],
   "source": [
    "# Enter your Db2 credentials in the connection string below\n",
    "# Recall you created Service Credentials in Part III of the first lab of the course in Week 1\n",
    "# i.e. from the uri field in the Service Credentials copy everything after db2:// (but remove the double quote at the end)\n",
    "# for example, if your credentials are as in the screenshot above, you would write:\n",
    "# %sql ibm_db_sa://my-username:my-password@hostname:port/BLUDB?security=SSL\n",
    "# Note the ibm_db_sa:// prefix instead of db2://\n",
    "# This is because JupyterLab's ipython-sql extension uses sqlalchemy (a python SQL toolkit)\n",
    "# which in turn uses IBM's sqlalchemy dialect: ibm_db_sa\n",
    "\n",
    "%sql ibm_db_sa://bjy32482:Ar4LSFWbBnL8icQ8@824dfd4d-99de-440d-9991-629c01b3832d.bs2io90l08kqb1od8lcg.databases.appdomain.cloud:30119/bludb?security=SSL\n"
   ]
  },
  {
   "cell_type": "markdown",
   "metadata": {},
   "source": [
    " For convenience, we can use %%sql (two %'s instead of one) at the top of a cell to indicate we want the entire cell to be treated as SQL. Let's use this to create a table and fill it with some test data for experimenting."
   ]
  },
  {
   "cell_type": "code",
   "execution_count": 8,
   "metadata": {},
   "outputs": [
    {
     "name": "stdout",
     "output_type": "stream",
     "text": [
      " * ibm_db_sa://bjy32482:***@824dfd4d-99de-440d-9991-629c01b3832d.bs2io90l08kqb1od8lcg.databases.appdomain.cloud:30119/bludb\n",
      "(ibm_db_dbi.ProgrammingError) ibm_db_dbi::ProgrammingError: Statement Execute Failed: [IBM][CLI Driver][DB2/LINUXX8664] SQL0104N  An unexpected token \"CREATE TABLE INTERNATIONAL_STUDENT_TEST_SCO\" was found following \"BEGIN-OF-STATEMENT\".  Expected tokens may include:  \"<space>\".  SQLSTATE=42601\\r SQLCODE=-104\n",
      "[SQL: CREATE TABLE INTERNATIONAL_STUDENT_TEST_SCORES( country VARCHAR(50),\n",
      "\tfirst_name VARCHAR(50),\n",
      "\tlast_name VARCHAR(50),\n",
      "\ttest_score INT\n",
      ")\n",
      "INSERT INTO INTERNATIONAL_STUDENT_TEST_SCORES(country, first_name, last_name, test_score)\n",
      "VALUES\n",
      "('United States', 'Marshall', 'Bernadot', 54),\n",
      "('Ghana', 'Celinda', 'Malkin', 51),\n",
      "('Ukraine', 'Guillermo', 'Furze', 53),\n",
      "('Greece', 'Aharon', 'Tunnow', 48),\n",
      "('Russia', 'Bail', 'Goodwin', 46),\n",
      "('Poland', 'Cole', 'Winteringham', 49),\n",
      "('Sweden', 'Emlyn', 'Erricker', 55),\n",
      "('Russia', 'Cathee', 'Sivewright', 49),\n",
      "('China', 'Barny', 'Ingerson', 57),\n",
      "('Uganda', 'Sharla', 'Papaccio', 55),\n",
      "('China', 'Stella', 'Youens', 51),\n",
      "('Poland', 'Julio', 'Buesden', 48),\n",
      "('United States', 'Tiffie', 'Cosely', 58),\n",
      "('Poland', 'Auroora', 'Stiffell', 45),\n",
      "('China', 'Clarita', 'Huet', 52),\n",
      "('Poland', 'Shannon', 'Goulden', 45),\n",
      "('Philippines', 'Emylee', 'Privost', 50),\n",
      "('France', 'Madelina', 'Burk', 49),\n",
      "('China', 'Saunderson', 'Root', 58),\n",
      "('Indonesia', 'Bo', 'Waring', 55),\n",
      "('China', 'Hollis', 'Domotor', 45),\n",
      "('Russia', 'Robbie', 'Collip', 46),\n",
      "('Philippines', 'Davon', 'Donisi', 46),\n",
      "('China', 'Cristabel', 'Radeliffe', 48),\n",
      "('China', 'Wallis', 'Bartleet', 58),\n",
      "('Moldova', 'Arleen', 'Stailey', 38),\n",
      "('Ireland', 'Mendel', 'Grumble', 58),\n",
      "('China', 'Sallyann', 'Exley', 51),\n",
      "('Mexico', 'Kain', 'Swaite', 46),\n",
      "('Indonesia', 'Alonso', 'Bulteel', 45),\n",
      "('Armenia', 'Anatol', 'Tankus', 51),\n",
      "('Indonesia', 'Coralyn', 'Dawkins', 48),\n",
      "('China', 'Deanne', 'Edwinson', 45),\n",
      "('China', 'Georgiana', 'Epple', 51),\n",
      "('Portugal', 'Bartlet', 'Breese', 56),\n",
      "('Azerbaijan', 'Idalina', 'Lukash', 50),\n",
      "('France', 'Livvie', 'Flory', 54),\n",
      "('Malaysia', 'Nonie', 'Borit', 48),\n",
      "('Indonesia', 'Clio', 'Mugg', 47),\n",
      "('Brazil', 'Westley', 'Measor', 48),\n",
      "('Philippines', 'Katrinka', 'Sibbert', 51),\n",
      "('Poland', 'Valentia', 'Mounch', 50),\n",
      "('Norway', 'Sheilah', 'Hedditch', 53),\n",
      "('Papua New Guinea', 'Itch', 'Jubb', 50),\n",
      "('Latvia', 'Stesha', 'Garnson', 53),\n",
      "('Canada', 'Cristionna', 'Wadmore', 46),\n",
      "('China', 'Lianna', 'Gatward', 43),\n",
      "('Guatemala', 'Tanney', 'Vials', 48),\n",
      "('France', 'Alma', 'Zavittieri', 44),\n",
      "('China', 'Alvira', 'Tamas', 50),\n",
      "('United States', 'Shanon', 'Peres', 45),\n",
      "('Sweden', 'Maisey', 'Lynas', 53),\n",
      "('Indonesia', 'Kip', 'Hothersall', 46),\n",
      "('China', 'Cash', 'Landis', 48),\n",
      "('Panama', 'Kennith', 'Digance', 45),\n",
      "('China', 'Ulberto', 'Riggeard', 48),\n",
      "('Switzerland', 'Judy', 'Gilligan', 49),\n",
      "('Philippines', 'Tod', 'Trevaskus', 52),\n",
      "('Brazil', 'Herold', 'Heggs', 44),\n",
      "('Latvia', 'Verney', 'Note', 50),\n",
      "('Poland', 'Temp', 'Ribey', 50),\n",
      "('China', 'Conroy', 'Egdal', 48),\n",
      "('Japan', 'Gabie', 'Alessandone', 47),\n",
      "('Ukraine', 'Devlen', 'Chaperlin', 54),\n",
      "('France', 'Babbette', 'Turner', 51),\n",
      "('Czech Republic', 'Virgil', 'Scotney', 52),\n",
      "('Tajikistan', 'Zorina', 'Bedow', 49),\n",
      "('China', 'Aidan', 'Rudeyeard', 50),\n",
      "('Ireland', 'Saunder', 'MacLice', 48),\n",
      "('France', 'Waly', 'Brunstan', 53),\n",
      "('China', 'Gisele', 'Enns', 52),\n",
      "('Peru', 'Mina', 'Winchester', 48),\n",
      "('Japan', 'Torie', 'MacShirrie', 50),\n",
      "('Russia', 'Benjamen', 'Kenford', 51),\n",
      "('China', 'Etan', 'Burn', 53),\n",
      "('Russia', 'Merralee', 'Chaperlin', 38),\n",
      "('Indonesia', 'Lanny', 'Malam', 49),\n",
      "('Canada', 'Wilhelm', 'Deeprose', 54),\n",
      "('Czech Republic', 'Lari', 'Hillhouse', 48),\n",
      "('China', 'Ossie', 'Woodley', 52),\n",
      "('Macedonia', 'April', 'Tyer', 50),\n",
      "('Vietnam', 'Madelon', 'Dansey', 53),\n",
      "('Ukraine', 'Korella', 'McNamee', 52),\n",
      "('Jamaica', 'Linnea', 'Cannam', 43),\n",
      "('China', 'Mart', 'Coling', 52),\n",
      "('Indonesia', 'Marna', 'Causbey', 47),\n",
      "('China', 'Berni', 'Daintier', 55),\n",
      "('Poland', 'Cynthia', 'Hassell', 49),\n",
      "('Canada', 'Carma', 'Schule', 49),\n",
      "('Indonesia', 'Malia', 'Blight', 48),\n",
      "('China', 'Paulo', 'Seivertsen', 47),\n",
      "('Niger', 'Kaylee', 'Hearley', 54),\n",
      "('Japan', 'Maure', 'Jandak', 46),\n",
      "('Argentina', 'Foss', 'Feavers', 45),\n",
      "('Venezuela', 'Ron', 'Leggitt', 60),\n",
      "('Russia', 'Flint', 'Gokes', 40),\n",
      "('China', 'Linet', 'Conelly', 52),\n",
      "('Philippines', 'Nikolas', 'Birtwell', 57),\n",
      "('Australia', 'Eduard', 'Leipelt', 53)]\n",
      "(Background on this error at: http://sqlalche.me/e/13/f405)\n"
     ]
    }
   ],
   "source": [
    "%%sql\n",
    "\n",
    "CREATE TABLE INTERNATIONAL_STUDENT_TEST_SCORES(\n",
    "\tcountry VARCHAR(50),\n",
    "\tfirst_name VARCHAR(50),\n",
    "\tlast_name VARCHAR(50),\n",
    "\ttest_score INT\n",
    ")\n",
    "INSERT INTO INTERNATIONAL_STUDENT_TEST_SCORES(country, first_name, last_name, test_score)\n",
    "VALUES\n",
    "('United States', 'Marshall', 'Bernadot', 54),\n",
    "('Ghana', 'Celinda', 'Malkin', 51),\n",
    "('Ukraine', 'Guillermo', 'Furze', 53),\n",
    "('Greece', 'Aharon', 'Tunnow', 48),\n",
    "('Russia', 'Bail', 'Goodwin', 46),\n",
    "('Poland', 'Cole', 'Winteringham', 49),\n",
    "('Sweden', 'Emlyn', 'Erricker', 55),\n",
    "('Russia', 'Cathee', 'Sivewright', 49),\n",
    "('China', 'Barny', 'Ingerson', 57),\n",
    "('Uganda', 'Sharla', 'Papaccio', 55),\n",
    "('China', 'Stella', 'Youens', 51),\n",
    "('Poland', 'Julio', 'Buesden', 48),\n",
    "('United States', 'Tiffie', 'Cosely', 58),\n",
    "('Poland', 'Auroora', 'Stiffell', 45),\n",
    "('China', 'Clarita', 'Huet', 52),\n",
    "('Poland', 'Shannon', 'Goulden', 45),\n",
    "('Philippines', 'Emylee', 'Privost', 50),\n",
    "('France', 'Madelina', 'Burk', 49),\n",
    "('China', 'Saunderson', 'Root', 58),\n",
    "('Indonesia', 'Bo', 'Waring', 55),\n",
    "('China', 'Hollis', 'Domotor', 45),\n",
    "('Russia', 'Robbie', 'Collip', 46),\n",
    "('Philippines', 'Davon', 'Donisi', 46),\n",
    "('China', 'Cristabel', 'Radeliffe', 48),\n",
    "('China', 'Wallis', 'Bartleet', 58),\n",
    "('Moldova', 'Arleen', 'Stailey', 38),\n",
    "('Ireland', 'Mendel', 'Grumble', 58),\n",
    "('China', 'Sallyann', 'Exley', 51),\n",
    "('Mexico', 'Kain', 'Swaite', 46),\n",
    "('Indonesia', 'Alonso', 'Bulteel', 45),\n",
    "('Armenia', 'Anatol', 'Tankus', 51),\n",
    "('Indonesia', 'Coralyn', 'Dawkins', 48),\n",
    "('China', 'Deanne', 'Edwinson', 45),\n",
    "('China', 'Georgiana', 'Epple', 51),\n",
    "('Portugal', 'Bartlet', 'Breese', 56),\n",
    "('Azerbaijan', 'Idalina', 'Lukash', 50),\n",
    "('France', 'Livvie', 'Flory', 54),\n",
    "('Malaysia', 'Nonie', 'Borit', 48),\n",
    "('Indonesia', 'Clio', 'Mugg', 47),\n",
    "('Brazil', 'Westley', 'Measor', 48),\n",
    "('Philippines', 'Katrinka', 'Sibbert', 51),\n",
    "('Poland', 'Valentia', 'Mounch', 50),\n",
    "('Norway', 'Sheilah', 'Hedditch', 53),\n",
    "('Papua New Guinea', 'Itch', 'Jubb', 50),\n",
    "('Latvia', 'Stesha', 'Garnson', 53),\n",
    "('Canada', 'Cristionna', 'Wadmore', 46),\n",
    "('China', 'Lianna', 'Gatward', 43),\n",
    "('Guatemala', 'Tanney', 'Vials', 48),\n",
    "('France', 'Alma', 'Zavittieri', 44),\n",
    "('China', 'Alvira', 'Tamas', 50),\n",
    "('United States', 'Shanon', 'Peres', 45),\n",
    "('Sweden', 'Maisey', 'Lynas', 53),\n",
    "('Indonesia', 'Kip', 'Hothersall', 46),\n",
    "('China', 'Cash', 'Landis', 48),\n",
    "('Panama', 'Kennith', 'Digance', 45),\n",
    "('China', 'Ulberto', 'Riggeard', 48),\n",
    "('Switzerland', 'Judy', 'Gilligan', 49),\n",
    "('Philippines', 'Tod', 'Trevaskus', 52),\n",
    "('Brazil', 'Herold', 'Heggs', 44),\n",
    "('Latvia', 'Verney', 'Note', 50),\n",
    "('Poland', 'Temp', 'Ribey', 50),\n",
    "('China', 'Conroy', 'Egdal', 48),\n",
    "('Japan', 'Gabie', 'Alessandone', 47),\n",
    "('Ukraine', 'Devlen', 'Chaperlin', 54),\n",
    "('France', 'Babbette', 'Turner', 51),\n",
    "('Czech Republic', 'Virgil', 'Scotney', 52),\n",
    "('Tajikistan', 'Zorina', 'Bedow', 49),\n",
    "('China', 'Aidan', 'Rudeyeard', 50),\n",
    "('Ireland', 'Saunder', 'MacLice', 48),\n",
    "('France', 'Waly', 'Brunstan', 53),\n",
    "('China', 'Gisele', 'Enns', 52),\n",
    "('Peru', 'Mina', 'Winchester', 48),\n",
    "('Japan', 'Torie', 'MacShirrie', 50),\n",
    "('Russia', 'Benjamen', 'Kenford', 51),\n",
    "('China', 'Etan', 'Burn', 53),\n",
    "('Russia', 'Merralee', 'Chaperlin', 38),\n",
    "('Indonesia', 'Lanny', 'Malam', 49),\n",
    "('Canada', 'Wilhelm', 'Deeprose', 54),\n",
    "('Czech Republic', 'Lari', 'Hillhouse', 48),\n",
    "('China', 'Ossie', 'Woodley', 52),\n",
    "('Macedonia', 'April', 'Tyer', 50),\n",
    "('Vietnam', 'Madelon', 'Dansey', 53),\n",
    "('Ukraine', 'Korella', 'McNamee', 52),\n",
    "('Jamaica', 'Linnea', 'Cannam', 43),\n",
    "('China', 'Mart', 'Coling', 52),\n",
    "('Indonesia', 'Marna', 'Causbey', 47),\n",
    "('China', 'Berni', 'Daintier', 55),\n",
    "('Poland', 'Cynthia', 'Hassell', 49),\n",
    "('Canada', 'Carma', 'Schule', 49),\n",
    "('Indonesia', 'Malia', 'Blight', 48),\n",
    "('China', 'Paulo', 'Seivertsen', 47),\n",
    "('Niger', 'Kaylee', 'Hearley', 54),\n",
    "('Japan', 'Maure', 'Jandak', 46),\n",
    "('Argentina', 'Foss', 'Feavers', 45),\n",
    "('Venezuela', 'Ron', 'Leggitt', 60),\n",
    "('Russia', 'Flint', 'Gokes', 40),\n",
    "('China', 'Linet', 'Conelly', 52),\n",
    "('Philippines', 'Nikolas', 'Birtwell', 57),\n",
    "('Australia', 'Eduard', 'Leipelt', 53)\n"
   ]
  },
  {
   "cell_type": "markdown",
   "metadata": {},
   "source": [
    "Using Python Variables in your SQL Statements\n",
    "You can use python variables in your SQL statements by adding a \":\" prefix to your python variable names.\n",
    "For example, if I have a python variable country with a value of \"Canada\", I can use this variable in a SQL query to find all the rows of students from Canada."
   ]
  },
  {
   "cell_type": "code",
   "execution_count": 11,
   "metadata": {},
   "outputs": [
    {
     "name": "stdout",
     "output_type": "stream",
     "text": [
      " * ibm_db_sa://bjy32482:***@824dfd4d-99de-440d-9991-629c01b3832d.bs2io90l08kqb1od8lcg.databases.appdomain.cloud:30119/bludb\n",
      "Done.\n"
     ]
    },
    {
     "data": {
      "text/html": [
       "<table>\n",
       "    <tr>\n",
       "        <th>country</th>\n",
       "        <th>first_name</th>\n",
       "        <th>last_name</th>\n",
       "        <th>test_score</th>\n",
       "    </tr>\n",
       "    <tr>\n",
       "        <td>Canada</td>\n",
       "        <td>Cristionna</td>\n",
       "        <td>Wadmore</td>\n",
       "        <td>46</td>\n",
       "    </tr>\n",
       "    <tr>\n",
       "        <td>Canada</td>\n",
       "        <td>Wilhelm</td>\n",
       "        <td>Deeprose</td>\n",
       "        <td>54</td>\n",
       "    </tr>\n",
       "    <tr>\n",
       "        <td>Canada</td>\n",
       "        <td>Carma</td>\n",
       "        <td>Schule</td>\n",
       "        <td>49</td>\n",
       "    </tr>\n",
       "</table>"
      ],
      "text/plain": [
       "[('Canada', 'Cristionna', 'Wadmore', 46),\n",
       " ('Canada', 'Wilhelm', 'Deeprose', 54),\n",
       " ('Canada', 'Carma', 'Schule', 49)]"
      ]
     },
     "execution_count": 11,
     "metadata": {},
     "output_type": "execute_result"
    }
   ],
   "source": [
    "country = \"Canada\"\n",
    "%sql select * from INTERNATIONAL_STUDENT_TEST_SCORES where country =:country\n"
   ]
  },
  {
   "cell_type": "markdown",
   "metadata": {},
   "source": [
    "Assigning the Results of Queries to Python Variables\n",
    "You can use the normal python assignment syntax to assign the results of your queries to python variables.\n",
    "For example, I have a SQL query to retrieve the distribution of test scores (i.e. how many students got each score). I can assign the result of this query to the variable test_score_distribution using the = operator.¶"
   ]
  },
  {
   "cell_type": "code",
   "execution_count": 28,
   "metadata": {},
   "outputs": [
    {
     "name": "stdout",
     "output_type": "stream",
     "text": [
      " * ibm_db_sa://bjy32482:***@824dfd4d-99de-440d-9991-629c01b3832d.bs2io90l08kqb1od8lcg.databases.appdomain.cloud:30119/bludb\n",
      "Done.\n"
     ]
    },
    {
     "data": {
      "text/html": [
       "<table>\n",
       "    <tr>\n",
       "        <th>test_score</th>\n",
       "        <th>frequency</th>\n",
       "    </tr>\n",
       "    <tr>\n",
       "        <td>38</td>\n",
       "        <td>2</td>\n",
       "    </tr>\n",
       "    <tr>\n",
       "        <td>40</td>\n",
       "        <td>1</td>\n",
       "    </tr>\n",
       "    <tr>\n",
       "        <td>43</td>\n",
       "        <td>2</td>\n",
       "    </tr>\n",
       "    <tr>\n",
       "        <td>44</td>\n",
       "        <td>2</td>\n",
       "    </tr>\n",
       "    <tr>\n",
       "        <td>45</td>\n",
       "        <td>8</td>\n",
       "    </tr>\n",
       "    <tr>\n",
       "        <td>46</td>\n",
       "        <td>7</td>\n",
       "    </tr>\n",
       "    <tr>\n",
       "        <td>47</td>\n",
       "        <td>4</td>\n",
       "    </tr>\n",
       "    <tr>\n",
       "        <td>48</td>\n",
       "        <td>14</td>\n",
       "    </tr>\n",
       "    <tr>\n",
       "        <td>49</td>\n",
       "        <td>8</td>\n",
       "    </tr>\n",
       "    <tr>\n",
       "        <td>50</td>\n",
       "        <td>10</td>\n",
       "    </tr>\n",
       "    <tr>\n",
       "        <td>51</td>\n",
       "        <td>8</td>\n",
       "    </tr>\n",
       "    <tr>\n",
       "        <td>52</td>\n",
       "        <td>8</td>\n",
       "    </tr>\n",
       "    <tr>\n",
       "        <td>53</td>\n",
       "        <td>8</td>\n",
       "    </tr>\n",
       "    <tr>\n",
       "        <td>54</td>\n",
       "        <td>5</td>\n",
       "    </tr>\n",
       "    <tr>\n",
       "        <td>55</td>\n",
       "        <td>4</td>\n",
       "    </tr>\n",
       "    <tr>\n",
       "        <td>56</td>\n",
       "        <td>1</td>\n",
       "    </tr>\n",
       "    <tr>\n",
       "        <td>57</td>\n",
       "        <td>2</td>\n",
       "    </tr>\n",
       "    <tr>\n",
       "        <td>58</td>\n",
       "        <td>4</td>\n",
       "    </tr>\n",
       "    <tr>\n",
       "        <td>60</td>\n",
       "        <td>1</td>\n",
       "    </tr>\n",
       "</table>"
      ],
      "text/plain": [
       "[(38, 2),\n",
       " (40, 1),\n",
       " (43, 2),\n",
       " (44, 2),\n",
       " (45, 8),\n",
       " (46, 7),\n",
       " (47, 4),\n",
       " (48, 14),\n",
       " (49, 8),\n",
       " (50, 10),\n",
       " (51, 8),\n",
       " (52, 8),\n",
       " (53, 8),\n",
       " (54, 5),\n",
       " (55, 4),\n",
       " (56, 1),\n",
       " (57, 2),\n",
       " (58, 4),\n",
       " (60, 1)]"
      ]
     },
     "execution_count": 28,
     "metadata": {},
     "output_type": "execute_result"
    }
   ],
   "source": [
    "test_score_distribution = %sql SELECT test_score Test_score, count(*) as Frequency from INTERNATIONAL_STUDENT_TEST_SCORES GROUP BY test_score\n",
    "test_score_distribution\n"
   ]
  },
  {
   "cell_type": "markdown",
   "metadata": {},
   "source": [
    "Converting Query Results to DataFrames\n",
    "You can easily convert a SQL query result to a pandas dataframe using the DataFrame() method. Dataframe objects are much more versatile than SQL query result objects. For example, we can easily graph our test score distribution after converting to a dataframe."
   ]
  },
  {
   "cell_type": "code",
   "execution_count": 18,
   "metadata": {},
   "outputs": [
    {
     "name": "stdout",
     "output_type": "stream",
     "text": [
      "Collecting seaborn==0.9.0Note: you may need to restart the kernel to use updated packages.\n",
      "  Downloading seaborn-0.9.0-py3-none-any.whl (208 kB)\n",
      "     ------------------------------------ 208.1/208.1 KB 171.1 kB/s eta 0:00:00\n",
      "Collecting matplotlib>=1.4.3\n",
      "  Downloading matplotlib-3.5.1-cp310-cp310-win_amd64.whl (7.2 MB)\n",
      "     ---------------------------------------- 7.2/7.2 MB 683.0 kB/s eta 0:00:00\n",
      "Requirement already satisfied: scipy>=0.14.0 in c:\\users\\tanim\\appdata\\local\\programs\\python\\python310\\lib\\site-packages (from seaborn==0.9.0) (1.7.2)\n",
      "Requirement already satisfied: pandas>=0.15.2 in c:\\users\\tanim\\appdata\\local\\programs\\python\\python310\\lib\\site-packages (from seaborn==0.9.0) (1.3.4)\n",
      "Requirement already satisfied: numpy>=1.9.3 in c:\\users\\tanim\\appdata\\local\\programs\\python\\python310\\lib\\site-packages (from seaborn==0.9.0) (1.21.4)\n",
      "Requirement already satisfied: pyparsing>=2.2.1 in c:\\users\\tanim\\appdata\\local\\programs\\python\\python310\\lib\\site-packages (from matplotlib>=1.4.3->seaborn==0.9.0) (2.4.7)\n",
      "\n",
      "Collecting cycler>=0.10\n",
      "  Downloading cycler-0.11.0-py3-none-any.whl (6.4 kB)\n",
      "Requirement already satisfied: python-dateutil>=2.7 in c:\\users\\tanim\\appdata\\local\\programs\\python\\python310\\lib\\site-packages (from matplotlib>=1.4.3->seaborn==0.9.0) (2.8.2)\n",
      "Collecting kiwisolver>=1.0.1\n",
      "  Downloading kiwisolver-1.4.2-cp310-cp310-win_amd64.whl (55 kB)\n",
      "     -------------------------------------- 55.3/55.3 KB 959.1 kB/s eta 0:00:00\n",
      "Collecting fonttools>=4.22.0\n",
      "  Downloading fonttools-4.31.2-py3-none-any.whl (899 kB)\n",
      "     ------------------------------------ 899.5/899.5 KB 612.0 kB/s eta 0:00:00\n",
      "Requirement already satisfied: packaging>=20.0 in c:\\users\\tanim\\appdata\\local\\programs\\python\\python310\\lib\\site-packages (from matplotlib>=1.4.3->seaborn==0.9.0) (21.0)\n",
      "Requirement already satisfied: pillow>=6.2.0 in c:\\users\\tanim\\appdata\\local\\programs\\python\\python310\\lib\\site-packages (from matplotlib>=1.4.3->seaborn==0.9.0) (8.4.0)\n",
      "Requirement already satisfied: pytz>=2017.3 in c:\\users\\tanim\\appdata\\local\\programs\\python\\python310\\lib\\site-packages (from pandas>=0.15.2->seaborn==0.9.0) (2021.3)\n",
      "Requirement already satisfied: six>=1.5 in c:\\users\\tanim\\appdata\\local\\programs\\python\\python310\\lib\\site-packages (from python-dateutil>=2.7->matplotlib>=1.4.3->seaborn==0.9.0) (1.16.0)\n",
      "Installing collected packages: kiwisolver, fonttools, cycler, matplotlib, seaborn\n",
      "Successfully installed cycler-0.11.0 fonttools-4.31.2 kiwisolver-1.4.2 matplotlib-3.5.1 seaborn-0.9.0\n"
     ]
    }
   ],
   "source": [
    "%pip install seaborn==0.9.0\n"
   ]
  },
  {
   "cell_type": "code",
   "execution_count": 32,
   "metadata": {},
   "outputs": [
    {
     "data": {
      "image/png": "[encoded data removed]",
      "text/plain": [
       "<Figure size 432x288 with 1 Axes>"
      ]
     },
     "metadata": {
      "needs_background": "light"
     },
     "output_type": "display_data"
    }
   ],
   "source": [
    "import seaborn\n",
    "dataframe = test_score_distribution.DataFrame()\n",
    "\n",
    "%matplotlib inline\n",
    "# uncomment the following line if you get an module error saying seaborn not found\n",
    "dataframe\n",
    "\n",
    "plot = seaborn.barplot(x=\"test_score\", y=\"frequency\", data=dataframe)\n"
   ]
  }
 ],
 "metadata": {
  "interpreter": {
   "hash": "088766d030dae52b8c5756f7737777698ef1781e0c5e1c104953237d640cd624"
  },
  "kernelspec": {
   "display_name": "Python 3.10.0 64-bit",
   "language": "python",
   "name": "python3"
  },
  "language_info": {
   "codemirror_mode": {
    "name": "ipython",
    "version": 3
   },
   "file_extension": ".py",
   "mimetype": "text/x-python",
   "name": "python",
   "nbconvert_exporter": "python",
   "pygments_lexer": "ipython3",
   "version": "3.10.0"
  },
  "orig_nbformat": 4
 },
 "nbformat": 4,
 "nbformat_minor": 2
}
