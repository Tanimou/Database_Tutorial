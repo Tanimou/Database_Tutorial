{
 "cells": [
  {
   "cell_type": "code",
   "execution_count": 1,
   "metadata": {},
   "outputs": [
    {
     "name": "stdout",
     "output_type": "stream",
     "text": [
      "Requirement already satisfied: pip in c:\\users\\tanim\\appdata\\local\\programs\\python\\python310\\lib\\site-packages (22.1.2)\n",
      "Note: you may need to restart the kernel to use updated packages.\n"
     ]
    }
   ],
   "source": [
    "pip install --upgrade pip "
   ]
  },
  {
   "cell_type": "code",
   "execution_count": 2,
   "metadata": {},
   "outputs": [],
   "source": [
    "%matplotlib widget"
   ]
  },
  {
   "cell_type": "code",
   "execution_count": 3,
   "metadata": {},
   "outputs": [],
   "source": [
    "import matplotlib.pyplot as plt"
   ]
  },
  {
   "cell_type": "code",
   "execution_count": 4,
   "metadata": {},
   "outputs": [
    {
     "data": {
      "text/plain": [
       "[<matplotlib.lines.Line2D at 0x2d1d9e7a620>]"
      ]
     },
     "execution_count": 4,
     "metadata": {},
     "output_type": "execute_result"
    },
    {
     "data": {
      "application/vnd.jupyter.widget-view+json": {
       "model_id": "4df4c8c94e3d40d9acc51c20fd3dd20e",
       "version_major": 2,
       "version_minor": 0
      },
      "image/png": "[encoded data removed]",
      "text/html": [
       "\n",
       "            <div style=\"display: inline-block;\">\n",
       "                <div class=\"jupyter-widgets widget-label\" style=\"text-align: center;\">\n",
       "                    Figure\n",
       "                </div>\n",
       "                <img src='data:image/png;base64,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' width=640.0/>\n",
       "            </div>\n",
       "        "
      ],
      "text/plain": [
       "Canvas(toolbar=Toolbar(toolitems=[('Home', 'Reset original view', 'home', 'home'), ('Back', 'Back to previous …"
      ]
     },
     "metadata": {},
     "output_type": "display_data"
    }
   ],
   "source": [
    "plt.plot(5,5,'o')"
   ]
  },
  {
   "cell_type": "code",
   "execution_count": null,
   "metadata": {},
   "outputs": [],
   "source": [
    "plt.show()"
   ]
  },
  {
   "cell_type": "markdown",
   "metadata": {},
   "source": [
    "Pandas Basics\n"
   ]
  },
  {
   "cell_type": "code",
   "execution_count": 6,
   "metadata": {},
   "outputs": [
    {
     "name": "stderr",
     "output_type": "stream",
     "text": [
      "'mamba' is not recognized as an internal or external command,\n",
      "operable program or batch file.\n"
     ]
    }
   ],
   "source": [
    "!mamba install openpyxl==3.0.9\n",
    "\n"
   ]
  },
  {
   "cell_type": "markdown",
   "metadata": {},
   "source": [
    "Next, we'll do is import two key data analysis modules: pandas and numpy.\n",
    "\n"
   ]
  },
  {
   "cell_type": "code",
   "execution_count": null,
   "metadata": {},
   "outputs": [],
   "source": [
    "import numpy as np  # useful for many scientific computing in Python\n",
    "import pandas as pd  # primary data structure library\n"
   ]
  },
  {
   "cell_type": "markdown",
   "metadata": {},
   "source": [
    "Let's download and import our primary Canadian Immigration dataset using pandas's read_excel() method."
   ]
  },
  {
   "cell_type": "code",
   "execution_count": null,
   "metadata": {},
   "outputs": [],
   "source": [
    "\n",
    "\n",
    "df_can = pd.read_excel(\n",
    "    'Canada.xlsx',\n",
    "    sheet_name='Canada by Citizenship',\n",
    "    skiprows=range(20),\n",
    "    skipfooter=2)\n",
    "print('Data downloaded and read into a dataframe!')\n"
   ]
  },
  {
   "cell_type": "markdown",
   "metadata": {},
   "source": [
    "Let's view the top 5 rows of the dataset using the head() function."
   ]
  },
  {
   "cell_type": "code",
   "execution_count": null,
   "metadata": {},
   "outputs": [],
   "source": [
    "df_can.head(2)\n",
    "# tip: You can specify the number of rows you'd like to see as follows: df_can.head(10)\n"
   ]
  },
  {
   "cell_type": "markdown",
   "metadata": {},
   "source": [
    "We can also view the bottom 5 rows of the dataset using the tail() function."
   ]
  },
  {
   "cell_type": "code",
   "execution_count": null,
   "metadata": {},
   "outputs": [],
   "source": [
    "df_can.tail()"
   ]
  },
  {
   "cell_type": "markdown",
   "metadata": {},
   "source": [
    "When analyzing a dataset, it's always a good idea to start by getting basic information about your dataframe. We can do this by using the info() method.\n",
    "\n",
    "This method can be used to get a short summary of the dataframe."
   ]
  },
  {
   "cell_type": "code",
   "execution_count": null,
   "metadata": {},
   "outputs": [],
   "source": [
    "df_can.info(verbose=False)\n"
   ]
  },
  {
   "cell_type": "markdown",
   "metadata": {},
   "source": [
    "Similarly, to get the list of indices we use the .index instance variables.Similarly, to get the list of indices we use the .index instance variables."
   ]
  },
  {
   "cell_type": "code",
   "execution_count": null,
   "metadata": {},
   "outputs": [],
   "source": [
    "df_can.index"
   ]
  },
  {
   "cell_type": "markdown",
   "metadata": {},
   "source": [
    "To get the list of column headers we can call upon the data frame's columns instance variable."
   ]
  },
  {
   "cell_type": "code",
   "execution_count": null,
   "metadata": {},
   "outputs": [],
   "source": [
    "df_can.columns"
   ]
  },
  {
   "cell_type": "markdown",
   "metadata": {},
   "source": [
    "Note: The default type of intance variables index and columns are NOT list."
   ]
  },
  {
   "cell_type": "markdown",
   "metadata": {},
   "source": [
    "To get the index and columns as lists, we can use the tolist() method."
   ]
  },
  {
   "cell_type": "code",
   "execution_count": null,
   "metadata": {},
   "outputs": [],
   "source": [
    "df_can.columns.tolist()\n"
   ]
  },
  {
   "cell_type": "code",
   "execution_count": null,
   "metadata": {},
   "outputs": [],
   "source": [
    "df_can.index.tolist()\n"
   ]
  },
  {
   "cell_type": "markdown",
   "metadata": {},
   "source": [
    "To view the dimensions of the dataframe, we use the shape instance variable of it."
   ]
  },
  {
   "cell_type": "code",
   "execution_count": null,
   "metadata": {},
   "outputs": [],
   "source": [
    "# size of dataframe (rows, columns)\n",
    "df_can.shape\n"
   ]
  },
  {
   "cell_type": "markdown",
   "metadata": {},
   "source": [
    "Note: The main types stored in pandas objects are float, int, bool, datetime64[ns], datetime64[ns, tz], timedelta[ns], category, and object (string). In addition, these dtypes have item sizes, e.g. int64 and int32."
   ]
  },
  {
   "cell_type": "markdown",
   "metadata": {},
   "source": [
    "Let's clean the data set to remove a few unnecessary columns. We can use pandas drop() method as follows:"
   ]
  },
  {
   "cell_type": "code",
   "execution_count": null,
   "metadata": {},
   "outputs": [],
   "source": [
    "# in pandas axis=0 represents rows (default) and axis=1 represents columns.\n",
    "df_can.drop(['AREA', 'REG', 'DEV', 'Type', 'Coverage'], axis=1, inplace=True)\n",
    "df_can.head(2)\n"
   ]
  },
  {
   "cell_type": "markdown",
   "metadata": {},
   "source": [
    "Let's rename the columns so that they make sense. We can use rename() method by passing in a dictionary of old and new names as follows:"
   ]
  },
  {
   "cell_type": "code",
   "execution_count": null,
   "metadata": {},
   "outputs": [],
   "source": [
    "df_can.rename(columns={'OdName': 'Country',\n",
    "              'AreaName': 'Continent', 'RegName': 'Region'}, inplace=True)\n"
   ]
  },
  {
   "cell_type": "code",
   "execution_count": null,
   "metadata": {},
   "outputs": [],
   "source": [
    "df_can.columns\n"
   ]
  },
  {
   "cell_type": "markdown",
   "metadata": {},
   "source": [
    "We will also add a 'Total' column that sums up the total immigrants by country over the entire period 1980 - 2013, as follows:"
   ]
  },
  {
   "cell_type": "code",
   "execution_count": null,
   "metadata": {},
   "outputs": [],
   "source": [
    "df_can['Total'] = df_can.sum(axis=1)\n"
   ]
  },
  {
   "cell_type": "code",
   "execution_count": null,
   "metadata": {},
   "outputs": [],
   "source": [
    "df_can"
   ]
  },
  {
   "cell_type": "markdown",
   "metadata": {},
   "source": [
    "We can check to see how many null objects we have in the dataset as follows:"
   ]
  },
  {
   "cell_type": "code",
   "execution_count": null,
   "metadata": {},
   "outputs": [],
   "source": [
    "df_can.isnull().sum()\n"
   ]
  },
  {
   "cell_type": "markdown",
   "metadata": {},
   "source": [
    "Finally, let's view a quick summary of each column in our dataframe using the describe() method."
   ]
  },
  {
   "cell_type": "code",
   "execution_count": null,
   "metadata": {},
   "outputs": [],
   "source": [
    "df_can.describe()\n"
   ]
  },
  {
   "cell_type": "markdown",
   "metadata": {},
   "source": [
    "pandas Intermediate: Indexing and Selection (slicing)"
   ]
  },
  {
   "cell_type": "markdown",
   "metadata": {},
   "source": [
    "Select Column\n",
    "There are two ways to filter on a column name:\n",
    "\n",
    "Method 1: Quick and easy, but only works if the column name does NOT have spaces or special characters.\n",
    "\n",
    "    df.column_name               # returns series\n",
    "Method 2: More robust, and can filter on multiple columns.\n",
    "\n",
    "    df['column']                  # returns series\n",
    "    df[['column 1', 'column 2']]  # returns dataframe\n"
   ]
  },
  {
   "cell_type": "markdown",
   "metadata": {},
   "source": [
    "Example: Let's try filtering on the list of countries ('Country')."
   ]
  },
  {
   "cell_type": "code",
   "execution_count": null,
   "metadata": {},
   "outputs": [],
   "source": [
    "df_can.Country"
   ]
  },
  {
   "cell_type": "markdown",
   "metadata": {},
   "source": [
    "Let's try filtering on the list of countries ('Country') and the data for years: 1980 - 1985."
   ]
  },
  {
   "cell_type": "code",
   "execution_count": null,
   "metadata": {},
   "outputs": [],
   "source": [
    "df_can[['Country', 1980, 1981, 1982, 1983, 1984, 1985]]  # returns a dataframe\n",
    "# notice that 'Country' is string, and the years are integers.\n",
    "# for the sake of consistency, we will convert all column names to string later on.\n"
   ]
  },
  {
   "cell_type": "markdown",
   "metadata": {},
   "source": [
    "Select Row\n",
    "There are main 2 ways to select rows:\n",
    "\n",
    "    df.loc[labels/columns]    # filters by the labels of the index/column\n",
    "    Exple: df.loc[['japan','china','haiti'],[1980,1988,2004]] #will return a dataframe\n",
    "    df.iloc[indexs/columns]   # filters by the positions of the index/column"
   ]
  },
  {
   "cell_type": "markdown",
   "metadata": {},
   "source": [
    "Before we proceed, notice that the default index of the dataset is a numeric range from 0 to 194. This makes it very difficult to do a query by a specific country. For example to search for data on Japan, we need to know the corresponding index value.\n",
    "\n",
    "This can be fixed very easily by setting the 'Country' column as the index using set_index() method."
   ]
  },
  {
   "cell_type": "code",
   "execution_count": null,
   "metadata": {},
   "outputs": [],
   "source": [
    "df_can.set_index('Country', inplace=True)\n",
    "# tip: The opposite of set is reset. So to reset the index, we can use df_can.reset_index()\n"
   ]
  },
  {
   "cell_type": "code",
   "execution_count": null,
   "metadata": {},
   "outputs": [],
   "source": [
    "df_can.head(3)"
   ]
  },
  {
   "cell_type": "code",
   "execution_count": null,
   "metadata": {},
   "outputs": [],
   "source": [
    "# optional: to remove the name of the index\n",
    "#df_can.index.name = None\n"
   ]
  },
  {
   "cell_type": "markdown",
   "metadata": {},
   "source": [
    "Example: Let's view the number of immigrants from Japan (row 87) for the following scenarios: 1. The full row data (all columns) 2. For year 2013 3. For years 1980 to 1985"
   ]
  },
  {
   "cell_type": "code",
   "execution_count": null,
   "metadata": {},
   "outputs": [],
   "source": [
    "# 1. the full row data (all columns)\n",
    "df_can.loc['Japan']\n"
   ]
  },
  {
   "cell_type": "code",
   "execution_count": null,
   "metadata": {},
   "outputs": [],
   "source": [
    "# alternate methods\n",
    "df_can.iloc[87]\n"
   ]
  },
  {
   "cell_type": "code",
   "execution_count": null,
   "metadata": {},
   "outputs": [],
   "source": [
    "df_can[df_can.index == 'Japan']#will return a dataframe\n"
   ]
  },
  {
   "cell_type": "code",
   "execution_count": null,
   "metadata": {},
   "outputs": [],
   "source": [
    "# 2. for year 2013\n",
    "df_can.loc['Japan', 2013]\n"
   ]
  },
  {
   "cell_type": "code",
   "execution_count": null,
   "metadata": {},
   "outputs": [],
   "source": [
    "# alternate method\n",
    "# year 2013 is the last column, with a positional index of 36\n",
    "df_can.iloc[87, 36]\n"
   ]
  },
  {
   "cell_type": "code",
   "execution_count": null,
   "metadata": {},
   "outputs": [],
   "source": [
    "# 3. for years 1980 to 1985\n",
    "df_can.loc['Japan', [1980, 1981, 1982, 1983, 1984, 1984,1985]]\n"
   ]
  },
  {
   "cell_type": "code",
   "execution_count": null,
   "metadata": {},
   "outputs": [],
   "source": [
    "# Alternative Method\n",
    "df_can.iloc[87, [3, 4, 5, 6, 7, 8]]\n"
   ]
  },
  {
   "cell_type": "markdown",
   "metadata": {},
   "source": [
    "Column names that are integers (such as the years) might introduce some confusion. For example, when we are referencing the year 2013, one might confuse that when the 2013th positional index.\n",
    "\n",
    "To avoid this ambuigity, let's convert the column names into strings: '1980' to '2013'."
   ]
  },
  {
   "cell_type": "code",
   "execution_count": null,
   "metadata": {},
   "outputs": [],
   "source": [
    "df_can.columns = list(map(str, df_can.columns))\n"
   ]
  },
  {
   "cell_type": "code",
   "execution_count": null,
   "metadata": {},
   "outputs": [],
   "source": [
    "[print (type(x)) for x in df_can.columns] #<-- uncomment to check type of column headers\n"
   ]
  },
  {
   "cell_type": "markdown",
   "metadata": {},
   "source": [
    "Since we converted the years to string, let's declare a variable that will allow us to easily call upon the full range of years:"
   ]
  },
  {
   "cell_type": "code",
   "execution_count": null,
   "metadata": {},
   "outputs": [],
   "source": [
    "# useful for plotting later on\n",
    "years = list(map(str, range(1980, 2014)))\n",
    "years\n"
   ]
  },
  {
   "cell_type": "markdown",
   "metadata": {},
   "source": [
    "Filtering based on a criteria\n",
    "To filter the dataframe based on a condition, we simply pass the condition as a boolean vector.\n",
    "\n",
    "For example, Let's filter the dataframe to show the data on Asian countries (AreaName = Asia)."
   ]
  },
  {
   "cell_type": "code",
   "execution_count": null,
   "metadata": {},
   "outputs": [],
   "source": [
    "# 1. create the condition boolean series\n",
    "condition = df_can['Continent'] == 'Asia'\n",
    "print(condition)\n"
   ]
  },
  {
   "cell_type": "code",
   "execution_count": null,
   "metadata": {},
   "outputs": [],
   "source": [
    "# 2. pass this condition into the dataFrame\n",
    "df_can[condition]\n"
   ]
  },
  {
   "cell_type": "code",
   "execution_count": null,
   "metadata": {},
   "outputs": [],
   "source": [
    "# we can pass multiple criteria in the same line.\n",
    "# let's filter for AreaNAme = Asia and RegName = Southern Asia\n",
    "\n",
    "df_can[(df_can['Continent'] == 'Asia') & (df_can['Region'] == 'Southern Asia')]\n",
    "\n",
    "# note: When using 'and' and 'or' operators, pandas requires we use '&' and '|' instead of 'and' and 'or'\n",
    "# don't forget to enclose the two conditions in parentheses\n"
   ]
  },
  {
   "cell_type": "markdown",
   "metadata": {},
   "source": [
    "Before we proceed: let's review the changes we have made to our dataframe"
   ]
  },
  {
   "cell_type": "code",
   "execution_count": null,
   "metadata": {},
   "outputs": [],
   "source": [
    "print('data dimensions:', df_can.shape)\n",
    "print(df_can.columns)\n",
    "df_can.head(2)\n"
   ]
  },
  {
   "cell_type": "markdown",
   "metadata": {},
   "source": [
    "Visualizing Data using Matplotlib"
   ]
  },
  {
   "cell_type": "markdown",
   "metadata": {},
   "source": [
    "Matplotlib: Standard Python Visualization Library\n",
    "\n",
    "The primary plotting library we will explore in the course is Matplotlib. As mentioned on their website:\n",
    "\n",
    "Matplotlib is a Python 2D plotting library which produces publication quality figures in a variety of hardcopy formats and interactive environments across platforms. Matplotlib can be used in Python scripts, the Python and IPython shell, the jupyter notebook, web application servers, and four graphical user interface toolkits.\n",
    "\n",
    "If you are aspiring to create impactful visualization with python, Matplotlib is an essential tool to have at your disposal."
   ]
  },
  {
   "cell_type": "markdown",
   "metadata": {},
   "source": [
    "Matplotlib.Pyplot\n",
    "\n",
    "One of the core aspects of Matplotlib is matplotlib.pyplot. It is Matplotlib's scripting layer which we studied in details in the videos about Matplotlib. Recall that it is a collection of command style functions that make Matplotlib work like MATLAB. Each pyplot function makes some change to a figure: e.g., creates a figure, creates a plotting area in a figure, plots some lines in a plotting area, decorates the plot with labels, etc. In this lab, we will work with the scripting layer to learn how to generate line plots. In future labs, we will get to work with the Artist layer as well to experiment first hand how it differs from the scripting layer.\n",
    "\n",
    "Let's start by importing matplotlib and matplotlib.pyplot as follows:"
   ]
  },
  {
   "cell_type": "code",
   "execution_count": null,
   "metadata": {},
   "outputs": [],
   "source": [
    "# we are using the inline backend\n",
    "import matplotlib.pyplot as plt\n",
    "import matplotlib as mpl\n",
    "%matplotlib widget\n"
   ]
  },
  {
   "cell_type": "code",
   "execution_count": null,
   "metadata": {},
   "outputs": [],
   "source": [
    "print(plt.style.available)\n"
   ]
  },
  {
   "cell_type": "markdown",
   "metadata": {},
   "source": [
    "Plotting in pandas\n",
    "\n",
    "Fortunately, pandas has a built-in implementation of Matplotlib that we can use. Plotting in pandas is as simple as appending a .plot() method to a series or dataframe."
   ]
  },
  {
   "cell_type": "markdown",
   "metadata": {},
   "source": [
    "Line Pots (Series/Dataframe) \n",
    "\n",
    "What is a line plot and why use it?\n",
    "\n",
    "A line chart or line plot is a type of plot which displays information as a series of data points called 'markers' connected by straight line segments. It is a basic type of chart common in many fields. Use line plot when you have a continuous data set. These are best suited for trend-based visualizations of data over a period of time."
   ]
  },
  {
   "cell_type": "markdown",
   "metadata": {},
   "source": [
    "Let's start with a case study:\n",
    "\n",
    "In 2010, Haiti suffered a catastrophic magnitude 7.0 earthquake. The quake caused widespread devastation and loss of life and aout three million people were affected by this natural disaster. As part of Canada's humanitarian effort, the Government of Canada stepped up its effort in accepting refugees from Haiti. We can quickly visualize this effort using a Line plot:\n",
    "\n",
    "Question: Plot a line graph of immigration from Haiti using df.plot().\n",
    "\n",
    "First, we will extract the data series for Haiti."
   ]
  },
  {
   "cell_type": "code",
   "execution_count": null,
   "metadata": {},
   "outputs": [],
   "source": [
    "# passing in years 1980 - 2013 to exclude the 'total' column\n",
    "haiti = df_can.loc['Haiti', years]#will return a data series\n",
    "haiti.head()\n"
   ]
  },
  {
   "cell_type": "code",
   "execution_count": null,
   "metadata": {},
   "outputs": [],
   "source": [
    "df_can[df_can.index=='Haiti']"
   ]
  },
  {
   "cell_type": "markdown",
   "metadata": {},
   "source": [
    "Next, we will plot a line plot by appending .plot() to the haiti dataframe."
   ]
  },
  {
   "cell_type": "code",
   "execution_count": null,
   "metadata": {},
   "outputs": [],
   "source": [
    "haiti.plot()"
   ]
  },
  {
   "cell_type": "markdown",
   "metadata": {},
   "source": [
    "pandas automatically populated the x-axis with the index values (years), and the y-axis with the column values (population). However, notice how the years were not displayed because they are of type string. Therefore, let's change the type of the index values to integer for plotting."
   ]
  },
  {
   "cell_type": "code",
   "execution_count": null,
   "metadata": {},
   "outputs": [],
   "source": [
    "# let's change the index values of Haiti to type integer for plotting\n",
    "haiti.index = haiti.index.map(int)\n"
   ]
  },
  {
   "cell_type": "code",
   "execution_count": null,
   "metadata": {},
   "outputs": [],
   "source": [
    "plt.title('Immigration from Haiti')\n",
    "plt.ylabel('Number of immigrants')\n",
    "plt.xlabel('Years')\n"
   ]
  },
  {
   "cell_type": "code",
   "execution_count": null,
   "metadata": {},
   "outputs": [],
   "source": [
    "plt.show()"
   ]
  },
  {
   "cell_type": "markdown",
   "metadata": {},
   "source": [
    "We can clearly notice how number of immigrants from Haiti spiked up from 2010 as Canada stepped up its efforts to accept refugees from Haiti. Let's annotate this spike in the plot by using the plt.text() method."
   ]
  },
  {
   "cell_type": "markdown",
   "metadata": {},
   "source": [
    "Quick note on x and y values in plt.text(x, y, label):\n",
    "\n",
    " Since the x-axis (years) is type 'integer', we specified x as a year. The y axis (number of immigrants) is type 'integer', so we can just specify the value y = 6000.\n",
    "    plt.text(2000, 6000, '2010 Earthquake') # years stored as type int\n",
    "If the years were stored as type 'string', we would need to specify x as the index position of the year. Eg 20th index is year 2000 since it is the 20th year with a base year of 1980.\n",
    "    plt.text(20, 6000, '2010 Earthquake') # years stored as type int\n",
    "We will cover advanced annotation methods in later modules."
   ]
  },
  {
   "cell_type": "code",
   "execution_count": null,
   "metadata": {},
   "outputs": [],
   "source": [
    "# annotate the 2010 Earthquake.\n",
    "# syntax: plt.text(x, y, label)\n",
    "plt.text(30, 6000, '2010 Earthquake')  # see note above\n"
   ]
  },
  {
   "cell_type": "code",
   "execution_count": null,
   "metadata": {},
   "outputs": [],
   "source": [
    "\n",
    "plt.show()\n"
   ]
  },
  {
   "cell_type": "markdown",
   "metadata": {},
   "source": [
    "Question: Let's compare the number of immigrants from India and China from 1980 to 2013."
   ]
  },
  {
   "cell_type": "markdown",
   "metadata": {},
   "source": [
    "Step 1: Get the data set for China and India, and display the dataframe."
   ]
  },
  {
   "cell_type": "code",
   "execution_count": null,
   "metadata": {},
   "outputs": [],
   "source": [
    "china=df_can[df_can.index == 'China']\n",
    "china"
   ]
  },
  {
   "cell_type": "code",
   "execution_count": null,
   "metadata": {},
   "outputs": [],
   "source": [
    "india=df_can[df_can.index == 'India']\n",
    "india"
   ]
  },
  {
   "cell_type": "code",
   "execution_count": null,
   "metadata": {},
   "outputs": [],
   "source": [
    "china_india = df_can.loc[['China','India'], years]\n",
    "china_india\n"
   ]
  },
  {
   "cell_type": "markdown",
   "metadata": {},
   "source": [
    "Step 2: Plot graph. We will explicitly specify line plot by passing in kind parameter to plot()."
   ]
  },
  {
   "cell_type": "code",
   "execution_count": null,
   "metadata": {},
   "outputs": [],
   "source": [
    "china_india.plot()"
   ]
  },
  {
   "cell_type": "markdown",
   "metadata": {},
   "source": [
    "That doesn't look right...\n",
    "\n",
    "Recall that pandas plots the indices on the x-axis and the columns as individual lines on the y-axis. Since df_CI is a dataframe with the country as the index and years as the columns, we must first transpose the dataframe using transpose() method to swap the row and columns.\n",
    "When using plot() on a dataframe, it's better to transpose before plotting"
   ]
  },
  {
   "cell_type": "code",
   "execution_count": null,
   "metadata": {},
   "outputs": [],
   "source": [
    "china_india=china_india[years].transpose()"
   ]
  },
  {
   "cell_type": "code",
   "execution_count": null,
   "metadata": {},
   "outputs": [],
   "source": [
    "china_india.head()"
   ]
  },
  {
   "cell_type": "code",
   "execution_count": null,
   "metadata": {},
   "outputs": [],
   "source": [
    "china_india.plot()"
   ]
  },
  {
   "cell_type": "code",
   "execution_count": null,
   "metadata": {},
   "outputs": [],
   "source": [
    "plt.title('Immigration from china and india')\n",
    "plt.ylabel('Number of immigrants')\n",
    "plt.xlabel('Years')\n"
   ]
  },
  {
   "cell_type": "code",
   "execution_count": null,
   "metadata": {},
   "outputs": [],
   "source": [
    "plt.show()"
   ]
  },
  {
   "cell_type": "code",
   "execution_count": null,
   "metadata": {},
   "outputs": [],
   "source": []
  },
  {
   "cell_type": "markdown",
   "metadata": {},
   "source": [
    "Line plot is a handy tool to display several dependent variables against one independent variable. However, it is recommended that no more than 5-10 lines on a single graph; any more than that and it becomes difficult to interpret."
   ]
  },
  {
   "cell_type": "markdown",
   "metadata": {},
   "source": [
    "Question: Compare the trend of top 5 countries that contributed the most to immigration to Canada."
   ]
  },
  {
   "cell_type": "code",
   "execution_count": null,
   "metadata": {},
   "outputs": [],
   "source": [
    "#The correct answer is:\n",
    "#Step 1: Get the dataset. Recall that we created a Total column that calculates cumulative immigration by country.\n",
    "#We will sort on this column to get our top 5 countries using pandas sort_values() method.\n"
   ]
  },
  {
   "cell_type": "code",
   "execution_count": null,
   "metadata": {},
   "outputs": [],
   "source": [
    "df_can.sort_values(by='Total', ascending=False, axis=0, inplace=True)\n"
   ]
  },
  {
   "cell_type": "code",
   "execution_count": null,
   "metadata": {},
   "outputs": [],
   "source": [
    "df_top5=df_can.head()"
   ]
  },
  {
   "cell_type": "code",
   "execution_count": null,
   "metadata": {},
   "outputs": [],
   "source": [
    "df_top5=df_top5.transpose()"
   ]
  },
  {
   "cell_type": "code",
   "execution_count": null,
   "metadata": {},
   "outputs": [],
   "source": [
    "df_top5=df_top5[years].transpose()\n",
    "df_top5\n"
   ]
  },
  {
   "cell_type": "code",
   "execution_count": null,
   "metadata": {},
   "outputs": [],
   "source": [
    "df_top5.plot()"
   ]
  },
  {
   "cell_type": "markdown",
   "metadata": {},
   "source": [
    "Other Plots\n",
    "Congratulations! you have learned how to wrangle data with python and create a line plot with Matplotlib. There are many other plotting styles available other than the default Line plot, all of which can be accessed by passing kind keyword to plot(). The full list of available plots are as follows:\n",
    "\n",
    "bar for vertical bar plots\n",
    "\n",
    "barh for horizontal bar plots\n",
    "\n",
    "hist for histogram\n",
    "\n",
    "box for boxplot\n",
    "\n",
    "kde or density for density plots\n",
    "\n",
    "area for area plots\n",
    "\n",
    "pie for pie plots\n",
    "\n",
    "scatter for scatter plots\n",
    "\n",
    "hexbin for hexbin plot"
   ]
  }
 ],
 "metadata": {
  "kernelspec": {
   "display_name": "Python 3.10.4 64-bit",
   "language": "python",
   "name": "python3"
  },
  "language_info": {
   "codemirror_mode": {
    "name": "ipython",
    "version": 3
   },
   "file_extension": ".py",
   "mimetype": "text/x-python",
   "name": "python",
   "nbconvert_exporter": "python",
   "pygments_lexer": "ipython3",
   "version": "3.10.5"
  },
  "orig_nbformat": 4,
  "vscode": {
   "interpreter": {
    "hash": "d7e6d8ab07031a4324fb522b039479764876aa1eb04f40bfc46e2fdde2fc89f6"
   }
  }
 },
 "nbformat": 4,
 "nbformat_minor": 2
}
